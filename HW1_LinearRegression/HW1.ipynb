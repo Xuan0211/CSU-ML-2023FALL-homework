{
 "cells": [
  {
   "cell_type": "markdown",
   "metadata": {
    "pycharm": {
     "name": "#%% md\n"
    }
   },
   "source": [
    "这是一个有部分代码缺失的notebook，需要完成的就是将 ### START CODE HERE ### ### END CODE HERE ###之间的代码补全"
   ]
  },
  {
   "cell_type": "markdown",
   "metadata": {
    "pycharm": {
     "name": "#%% md\n"
    }
   },
   "source": [
    "# 线性回归\n",
    "  \n",
    "某城市的电网系统需要升级，以应对日益增长的用电需求。电网系统需要考虑最高温度对城市的峰值用电量的影响。项目负责人需要预测明天城市的峰值用电量，他搜集了以往的数据。现在，负责人提供了他搜集到的数据，并请求你帮他训练出一个模型，这个模型能够很好地预测明天城市的峰值用电量。"
   ]
  },
  {
   "cell_type": "markdown",
   "metadata": {
    "pycharm": {
     "name": "#%% md\n"
    }
   },
   "source": [
    "## 1- 准备"
   ]
  },
  {
   "cell_type": "markdown",
   "metadata": {
    "pycharm": {
     "name": "#%% md\n"
    }
   },
   "source": [
    "先导入必要的python包"
   ]
  },
  {
   "cell_type": "code",
   "execution_count": null,
   "metadata": {
    "pycharm": {
     "name": "#%%\n",
     "is_executing": true
    }
   },
   "outputs": [],
   "source": [
    "import numpy as np\n",
    "import matplotlib.pyplot as plt\n",
    "import time\n",
    "%matplotlib inline"
   ]
  },
  {
   "cell_type": "markdown",
   "metadata": {
    "pycharm": {
     "name": "#%% md\n"
    }
   },
   "source": [
    "导入负责人提供的数据，并可视化数据"
   ]
  },
  {
   "cell_type": "code",
   "execution_count": 2,
   "metadata": {
    "pycharm": {
     "name": "#%%\n"
    }
   },
   "outputs": [
    {
     "name": "stdout",
     "output_type": "stream",
     "text": [
      "X shape: (80, 1)\n",
      "Y shape: (80, 1)\n",
      "some X[:5]:\n",
      " [[38.24]\n",
      " [36.53]\n",
      " [32.92]\n",
      " [26.59]\n",
      " [20.05]]\n",
      "some Y[:5]:\n",
      " [[4.04]\n",
      " [2.84]\n",
      " [3.2 ]\n",
      " [3.42]\n",
      " [2.32]]\n"
     ]
    },
    {
     "data": {
      "text/plain": "<Figure size 640x480 with 1 Axes>",
      "image/png": "[encoded data removed]"
     },
     "metadata": {},
     "output_type": "display_data"
    }
   ],
   "source": [
    "data = np.loadtxt('data.txt')\n",
    "#data 第一列为温度信息 第二列为人口信息\n",
    "X_raw = data[:,0].reshape(-1,1) # reshape 第一维自己计算 第二维度变成1维度 也就是变成只有一个元素的列表\n",
    "#data 第三列为用电量信息\n",
    "Y = data[:,2].reshape(-1,1)\n",
    "plt.xlabel('High temperature')\n",
    "plt.ylabel('Peak demand ')\n",
    "plt.scatter(X_raw,Y)\n",
    "print('X shape:',X_raw.shape)\n",
    "print('Y shape:',Y.shape)\n",
    "print('some X[:5]:\\n',X_raw[:5])\n",
    "print('some Y[:5]:\\n',Y[:5])"
   ]
  },
  {
   "cell_type": "markdown",
   "metadata": {
    "pycharm": {
     "name": "#%% md\n"
    }
   },
   "source": [
    "根据对数据可视化结果的分析，决定使用回归算法训练一个模型，用来预测明天城市的峰值用电量。首先考虑单变量的线性回归模型。"
   ]
  },
  {
   "cell_type": "markdown",
   "metadata": {
    "pycharm": {
     "name": "#%% md\n"
    }
   },
   "source": [
    "## 2- 单变量线性回归理论介绍\n",
    "\n",
    "### 单变量线性回归模型\n",
    "\n",
    "单变量线性回归的模型由两个参数$\\theta_0$,$\\theta_1$来表示一条直线：$$Peak\\ demand \\approx \\theta_0 + \\theta_1 \\cdot (High\\ temperature) 。$$\n",
    "\n",
    "我们的目标也就是找到一条\"最符合\"的直线，确定这条直线的参数$\\theta_i$。\n",
    "  \n",
    "![functions](images/lines.jpg)  \n",
    "设输入的特征——最高温度(F)为$x^{(i)} \\in \\mathbb{R}^{n+1}$，$i=1,\\cdots,m$。$m$为样本总数，在该例子中$m$=80。$n$为特征的个数，这里为$1$。则：$x^{(i)} \\in \\mathbb{R}^2 = \\begin{bmatrix} 1 \\\\ \\text{high temperature for day} i\\end{bmatrix}。$\n",
    "\n",
    "设输出为$y^{(i)} \\in \\mathbb{R}$，表示第$i$天的峰值用电量。\n",
    "\n",
    "参数为$\\theta \\in \\mathbb{R}^{n+1} = \\begin{bmatrix} \\theta_0 \\\\ \\theta_1 \\\\ \\vdots \\\\ \\theta_n \\end{bmatrix}$。这里$n=1$。\n",
    "\n",
    "在该例子中，模型为一条直线，模型可表示为：\n",
    "$$h_{\\theta}(x) = \\theta^T x = \\theta_0 + \\theta_1 x 。$$\n",
    "### **注意**：\n",
    "这里的$\\theta^T$是一个向量，$\\theta_0,\\theta_1$是标量。使用向量化表示的原因为：\n",
    "（1）简化数学公式的书写\n",
    "（2）与程序代码中的表示保持一致，且使用向量化的代码实现可以加速运算，**因此一般能不用`for`循环的地方都不用`for`循环**。\n",
    "\n",
    "下面用一个简单的例子说明向量化的代码运算更快。\n"
   ]
  },
  {
   "cell_type": "code",
   "execution_count": 3,
   "metadata": {
    "pycharm": {
     "name": "#%%\n"
    }
   },
   "outputs": [
    {
     "name": "stdout",
     "output_type": "stream",
     "text": [
      "for循环的计算时间: 3.14s\n",
      "计算结果：2500154.76\n",
      "向量化的计算时间: 0.01s\n",
      "计算结果：2500154.76\n"
     ]
    }
   ],
   "source": [
    "# 随机初始化两个向量，计算它们的点积\n",
    "x = np.random.rand(10000000,1)\n",
    "y = np.random.rand(10000000,1)\n",
    "ans = 0\n",
    "start = time.time()\n",
    "for i in range(10000000):\n",
    "    ans += x[i,0]*y[i,0]\n",
    "end = time.time()\n",
    "print('for循环的计算时间: %.2fs'%(end - start))\n",
    "print('计算结果：%.2f'%(ans))\n",
    "start = time.time()\n",
    "ans = np.dot(x.T,y)\n",
    "end = time.time()\n",
    "print('向量化的计算时间: %.2fs'%(end - start))\n",
    "print('计算结果：%.2f'%(ans))"
   ]
  },
  {
   "cell_type": "markdown",
   "metadata": {
    "pycharm": {
     "name": "#%% md\n"
    }
   },
   "source": [
    "因为$\\theta_0 + \\theta_1 x=\\begin{bmatrix} 1 \\quad x \\end{bmatrix} \\begin{bmatrix} \\theta_0 \\\\ \\theta_1 \\end{bmatrix} 。$\n",
    "因此，为了方便编程，我们需要给每一个$x^{(i)}$的前面再加一列1。使得每一个$x^{(i)}$成为一个2维向量。"
   ]
  },
  {
   "cell_type": "markdown",
   "metadata": {
    "pycharm": {
     "name": "#%% md\n"
    }
   },
   "source": [
    "### 预测结果\n",
    "\n",
    "模型需要根据输入自变量 $x^{(i)}$ 和参数 $\\theta$ 来输出预测结果 $predict\\_y^{(i)}$。\n",
    "\n",
    "将自变量 $x^{(i)}$ 作为模型的输入，模型根据输入和当前参数 $\\theta$ 输出预测结果：\n",
    "\n",
    "$$\n",
    "predict\\_y^{(i)} = h_\\theta(x^{(i)})。\n",
    "$$\n",
    "\n",
    "其中 $h_\\theta()$ 为模型在参数为 $\\theta$ 情况下，对于输入的预测函数。  \n",
    "\n",
    "\n",
    "在预测阶段，$x$作为自变量。"
   ]
  },
  {
   "cell_type": "markdown",
   "metadata": {
    "pycharm": {
     "name": "#%% md\n"
    }
   },
   "source": [
    "### 损失函数\n",
    "\n",
    "模型的预测结果和实际结果有差距，为了衡量它们之间的差距，或者说量化使用这个模型产生的损失，我们定义损失函数$l(predict\\_y^{(i)}, y^{(i)})$。这里我们使用平方损失：\n",
    "$$\n",
    "l(predict\\_y, y) = \\left ( predict\\_y^{(i)} - y^{(i)} \\right )^2。\n",
    "$$\n",
    "\n",
    "上述损失函数表示一个样本的损失，整个训练集的损失使用$J(\\theta)$表示：\n",
    "$$\n",
    "\\begin{aligned}\n",
    "J(\\theta) & = \\frac{1}{2m} \\sum_{i=1}^{m}l(predict\\_y^{(i)}, y^{(i)}) \\\\\n",
    "& = \\frac{1}{2m} \\sum_{i=1}^{m} \\left ( h_\\theta(x^{(i)}) - y^{(i)} \\right )^2 \\\\\n",
    "& = \\frac{1}{2m} \\sum_{i=1}^{m} \\left ( \\theta^T x^{(i)} - y^{(i)} \\right )^2。\n",
    "\\end{aligned}\n",
    "$$\n",
    "（其中数字2的作用是方便求导时的运算）\n",
    "\n",
    "为了使模型取得较好的预测效果，需要最小化训练集上的损失，即$\\underset{\\theta}{\\min} J(\\theta)$。\n",
    "\n",
    "在损失阶段，$\\theta$ 作为自变量。\n"
   ]
  },
  {
   "cell_type": "markdown",
   "metadata": {
    "pycharm": {
     "name": "#%% md\n"
    }
   },
   "source": [
    "### 梯度下降法\n",
    "\n",
    "为了得到使损失函数$J(\\theta)$最小化的$\\theta$，可以使用梯度下降法。\n",
    "\n",
    "损失函数$J(\\theta)$的函数图像如下：  \n",
    "![损失函数J](images/loss_function_j.png)\n",
    "\n",
    "损失函数$J(\\theta)$关于参数向量$\\theta$中的一个参数，比如$\\theta_1$的函数图为：  \n",
    "![theta-J 函数图](images/theta-J.png)\n",
    "\n",
    "假设一开始$J(\\theta)$的值在紫色点上，为了降低$J(\\theta)$值，需要$\\theta_1$往右边移动，这个方向是$J(\\theta)$在$\\theta_1$上的负梯度。只要$\\theta$不断往负梯度方向移动，$J(\\theta)$一定可以降到最低值。梯度下降法就是使参数$\\theta$不断往负梯度移动，经过有限次迭代(更新$\\theta$值)之后，损失函数$J(\\theta)$达到最低值。\n",
    "\n",
    "梯度下降法的过程：\n",
    "1. 初始化参数向量$\\theta$。\n",
    "\n",
    "2. 开始迭代\n",
    "\n",
    "   A.根据实际输入$x$和参数$\\theta$预测输出，\n",
    "   \n",
    "   B. 根据预测输出值和实际输出值之间的差距，计算损失函数$J(\\theta)$，\n",
    "   \n",
    "   C. 计算损失函数对$\\theta$的梯度，\n",
    "   \n",
    "   D. 更新参数$\\theta$。\n",
    "\n"
   ]
  },
  {
   "cell_type": "markdown",
   "metadata": {
    "pycharm": {
     "name": "#%% md\n"
    }
   },
   "source": [
    "# 3- 实现单变量线性回归模型 \n",
    "\n",
    "现在，我们开始实现 Regression 算法。\n",
    "\n",
    "### **任务1：** \n",
    "首先在$X$前面加上一列1，表示参数$\\theta_0$的系数，方便运算。$X$是形状为$(m,1)$的矩阵，一共$m$行数据，我们需要为每一行数据的前面加一列1，如下所示：  \n",
    "$$\n",
    "\\begin{bmatrix} x^{(0)} \\\\ x^{(1)} \\\\ \\vdots \\\\x^{(m-1)}  \\end{bmatrix} \\longrightarrow\n",
    "\\begin{bmatrix} 1\\quad x^{(0)} \\\\ 1\\quad x^{(1)} \\\\ \\vdots \\\\ 1\\ x^{(m-1)}  \\end{bmatrix}。\n",
    "$$\n",
    "**提示**：可以使用`np.hstack`把两个矩阵水平合在一起。用1初始化向量或矩阵的函数是`np.ones`。(函数详情可使用python的帮助函数`help`，比如`help(np.ones)`，或者自行用搜索引擎检索。)"
   ]
  },
  {
   "cell_type": "code",
   "execution_count": 4,
   "outputs": [
    {
     "name": "stdout",
     "output_type": "stream",
     "text": [
      "Help on function hstack in module numpy:\n",
      "\n",
      "hstack(tup, *, dtype=None, casting='same_kind')\n",
      "    Stack arrays in sequence horizontally (column wise).\n",
      "    \n",
      "    This is equivalent to concatenation along the second axis, except for 1-D\n",
      "    arrays where it concatenates along the first axis. Rebuilds arrays divided\n",
      "    by `hsplit`.\n",
      "    \n",
      "    This function makes most sense for arrays with up to 3 dimensions. For\n",
      "    instance, for pixel-data with a height (first axis), width (second axis),\n",
      "    and r/g/b channels (third axis). The functions `concatenate`, `stack` and\n",
      "    `block` provide more general stacking and concatenation operations.\n",
      "    \n",
      "    Parameters\n",
      "    ----------\n",
      "    tup : sequence of ndarrays\n",
      "        The arrays must have the same shape along all but the second axis,\n",
      "        except 1-D arrays which can be any length.\n",
      "    \n",
      "    dtype : str or dtype\n",
      "        If provided, the destination array will have this dtype. Cannot be\n",
      "        provided together with `out`.\n",
      "    \n",
      "    .. versionadded:: 1.24\n",
      "    \n",
      "    casting : {'no', 'equiv', 'safe', 'same_kind', 'unsafe'}, optional\n",
      "        Controls what kind of data casting may occur. Defaults to 'same_kind'.\n",
      "    \n",
      "    .. versionadded:: 1.24\n",
      "    \n",
      "    Returns\n",
      "    -------\n",
      "    stacked : ndarray\n",
      "        The array formed by stacking the given arrays.\n",
      "    \n",
      "    See Also\n",
      "    --------\n",
      "    concatenate : Join a sequence of arrays along an existing axis.\n",
      "    stack : Join a sequence of arrays along a new axis.\n",
      "    block : Assemble an nd-array from nested lists of blocks.\n",
      "    vstack : Stack arrays in sequence vertically (row wise).\n",
      "    dstack : Stack arrays in sequence depth wise (along third axis).\n",
      "    column_stack : Stack 1-D arrays as columns into a 2-D array.\n",
      "    hsplit : Split an array into multiple sub-arrays horizontally (column-wise).\n",
      "    \n",
      "    Examples\n",
      "    --------\n",
      "    >>> a = np.array((1,2,3))\n",
      "    >>> b = np.array((4,5,6))\n",
      "    >>> np.hstack((a,b))\n",
      "    array([1, 2, 3, 4, 5, 6])\n",
      "    >>> a = np.array([[1],[2],[3]])\n",
      "    >>> b = np.array([[4],[5],[6]])\n",
      "    >>> np.hstack((a,b))\n",
      "    array([[1, 4],\n",
      "           [2, 5],\n",
      "           [3, 6]])\n",
      "\n"
     ]
    }
   ],
   "source": [
    "help(np.hstack)"
   ],
   "metadata": {
    "collapsed": false,
    "pycharm": {
     "name": "#%%\n"
    }
   }
  },
  {
   "cell_type": "code",
   "execution_count": 5,
   "outputs": [
    {
     "name": "stdout",
     "output_type": "stream",
     "text": [
      "Help on function ones in module numpy:\n",
      "\n",
      "ones(shape, dtype=None, order='C', *, like=None)\n",
      "    Return a new array of given shape and type, filled with ones.\n",
      "    \n",
      "    Parameters\n",
      "    ----------\n",
      "    shape : int or sequence of ints\n",
      "        Shape of the new array, e.g., ``(2, 3)`` or ``2``.\n",
      "    dtype : data-type, optional\n",
      "        The desired data-type for the array, e.g., `numpy.int8`.  Default is\n",
      "        `numpy.float64`.\n",
      "    order : {'C', 'F'}, optional, default: C\n",
      "        Whether to store multi-dimensional data in row-major\n",
      "        (C-style) or column-major (Fortran-style) order in\n",
      "        memory.\n",
      "    like : array_like, optional\n",
      "        Reference object to allow the creation of arrays which are not\n",
      "        NumPy arrays. If an array-like passed in as ``like`` supports\n",
      "        the ``__array_function__`` protocol, the result will be defined\n",
      "        by it. In this case, it ensures the creation of an array object\n",
      "        compatible with that passed in via this argument.\n",
      "    \n",
      "        .. versionadded:: 1.20.0\n",
      "    \n",
      "    Returns\n",
      "    -------\n",
      "    out : ndarray\n",
      "        Array of ones with the given shape, dtype, and order.\n",
      "    \n",
      "    See Also\n",
      "    --------\n",
      "    ones_like : Return an array of ones with shape and type of input.\n",
      "    empty : Return a new uninitialized array.\n",
      "    zeros : Return a new array setting values to zero.\n",
      "    full : Return a new array of given shape filled with value.\n",
      "    \n",
      "    \n",
      "    Examples\n",
      "    --------\n",
      "    >>> np.ones(5)\n",
      "    array([1., 1., 1., 1., 1.])\n",
      "    \n",
      "    >>> np.ones((5,), dtype=int)\n",
      "    array([1, 1, 1, 1, 1])\n",
      "    \n",
      "    >>> np.ones((2, 1))\n",
      "    array([[1.],\n",
      "           [1.]])\n",
      "    \n",
      "    >>> s = (2,2)\n",
      "    >>> np.ones(s)\n",
      "    array([[1.,  1.],\n",
      "           [1.,  1.]])\n",
      "\n"
     ]
    }
   ],
   "source": [
    "help(np.ones)"
   ],
   "metadata": {
    "collapsed": false,
    "pycharm": {
     "name": "#%%\n"
    }
   }
  },
  {
   "cell_type": "code",
   "execution_count": 6,
   "outputs": [
    {
     "name": "stdout",
     "output_type": "stream",
     "text": [
      "[[1.]\n",
      " [1.]\n",
      " [1.]\n",
      " [1.]\n",
      " [1.]\n",
      " [1.]\n",
      " [1.]\n",
      " [1.]\n",
      " [1.]\n",
      " [1.]]\n"
     ]
    }
   ],
   "source": [
    "print(np.ones((10,1)))"
   ],
   "metadata": {
    "collapsed": false,
    "pycharm": {
     "name": "#%%\n"
    }
   }
  },
  {
   "cell_type": "code",
   "execution_count": 7,
   "metadata": {
    "pycharm": {
     "name": "#%%\n"
    }
   },
   "outputs": [],
   "source": [
    "def preprocess_data(X):\n",
    "    \"\"\"输入预处理 在X前面加一列1\n",
    "    参数：\n",
    "        X:原始数据,shape为(m,1)\n",
    "        \n",
    "    返回：\n",
    "        X_train: 在X加一列1的数据,shape为(m,2)\n",
    "    \"\"\"\n",
    "\n",
    "    m = X.shape[0]   # m 是数据X的行数\n",
    "    ### START CODE HERE ###\n",
    "    X_train = np.hstack((np.ones((m,1)),X))\n",
    "    \n",
    "    ### END CODE HERE ###\n",
    "    return X_train"
   ]
  },
  {
   "cell_type": "code",
   "execution_count": 8,
   "metadata": {
    "pycharm": {
     "name": "#%%\n"
    }
   },
   "outputs": [
    {
     "name": "stdout",
     "output_type": "stream",
     "text": [
      "new X shape: (80, 2)\n",
      "Y shape: (80, 1)\n",
      "new X[:5,:]=\n",
      " [[ 1.   38.24]\n",
      " [ 1.   36.53]\n",
      " [ 1.   32.92]\n",
      " [ 1.   26.59]\n",
      " [ 1.   20.05]]\n",
      "Y[:5,:]=\n",
      " [[4.04]\n",
      " [2.84]\n",
      " [3.2 ]\n",
      " [3.42]\n",
      " [2.32]]\n"
     ]
    }
   ],
   "source": [
    "X = preprocess_data(X_raw)\n",
    "print('new X shape:',X.shape)\n",
    "print('Y shape:',Y.shape)\n",
    "print('new X[:5,:]=\\n',X[:5,:])\n",
    "print('Y[:5,:]=\\n',Y[:5,:])"
   ]
  },
  {
   "cell_type": "markdown",
   "metadata": {
    "pycharm": {
     "name": "#%% md\n"
    }
   },
   "source": [
    "### **任务2：** \n",
    "接着，初始化参数向量$\\theta$。$\\theta$的shape是$(2,1)$，我们随机初始化$\\theta$。\n",
    "\n",
    "**提示**：numpy的随机函数是`np.random.rand`。"
   ]
  },
  {
   "cell_type": "code",
   "execution_count": 9,
   "outputs": [
    {
     "name": "stdout",
     "output_type": "stream",
     "text": [
      "Help on built-in function rand:\n",
      "\n",
      "rand(...) method of numpy.random.mtrand.RandomState instance\n",
      "    rand(d0, d1, ..., dn)\n",
      "    \n",
      "    Random values in a given shape.\n",
      "    \n",
      "    .. note::\n",
      "        This is a convenience function for users porting code from Matlab,\n",
      "        and wraps `random_sample`. That function takes a\n",
      "        tuple to specify the size of the output, which is consistent with\n",
      "        other NumPy functions like `numpy.zeros` and `numpy.ones`.\n",
      "    \n",
      "    Create an array of the given shape and populate it with\n",
      "    random samples from a uniform distribution\n",
      "    over ``[0, 1)``.\n",
      "    \n",
      "    Parameters\n",
      "    ----------\n",
      "    d0, d1, ..., dn : int, optional\n",
      "        The dimensions of the returned array, must be non-negative.\n",
      "        If no argument is given a single Python float is returned.\n",
      "    \n",
      "    Returns\n",
      "    -------\n",
      "    out : ndarray, shape ``(d0, d1, ..., dn)``\n",
      "        Random values.\n",
      "    \n",
      "    See Also\n",
      "    --------\n",
      "    random\n",
      "    \n",
      "    Examples\n",
      "    --------\n",
      "    >>> np.random.rand(3,2)\n",
      "    array([[ 0.14022471,  0.96360618],  #random\n",
      "           [ 0.37601032,  0.25528411],  #random\n",
      "           [ 0.49313049,  0.94909878]]) #random\n",
      "\n"
     ]
    }
   ],
   "source": [
    "help(np.random.rand)"
   ],
   "metadata": {
    "collapsed": false,
    "pycharm": {
     "name": "#%%\n"
    }
   }
  },
  {
   "cell_type": "code",
   "execution_count": 10,
   "metadata": {
    "pycharm": {
     "name": "#%%\n"
    }
   },
   "outputs": [],
   "source": [
    "def init_parameter(shape):\n",
    "    \"\"\"初始化参数\n",
    "    参数：\n",
    "        shape: 参数形状\n",
    "        \n",
    "    返回：\n",
    "        theta_init: 初始化后的参数\n",
    "    \"\"\"\n",
    "    \n",
    "    np.random.seed(0)\n",
    "    m, n = shape\n",
    "    ### START CODE HERE ###\n",
    "\n",
    "    theta_init = np.random.rand(m,n)\n",
    "\n",
    "    ### END CODE HERE ###\n",
    "    \n",
    "    return theta_init"
   ]
  },
  {
   "cell_type": "code",
   "execution_count": 11,
   "metadata": {
    "pycharm": {
     "name": "#%%\n"
    }
   },
   "outputs": [
    {
     "name": "stdout",
     "output_type": "stream",
     "text": [
      "theta shape is  (2, 1)\n",
      "theta =  [[0.5488135 ]\n",
      " [0.71518937]]\n"
     ]
    }
   ],
   "source": [
    "theta = init_parameter((2,1))\n",
    "print('theta shape is ',theta.shape)\n",
    "print('theta = ',theta)"
   ]
  },
  {
   "cell_type": "markdown",
   "metadata": {
    "pycharm": {
     "name": "#%% md\n"
    }
   },
   "source": [
    "### **任务3：** \n",
    "通过已知 $X$ 和参数 $\\theta$ 计算预测的 $predict\\_Y$ 值。\n",
    "\n",
    "由于使用`for`循环单独计算每个预测值效率不高，因此我们需要用向量化的方法代替`for`循环。$X$ 大小为$m \\times (n+1)$($n$表示特征数量，这里$n=1$)，每行是一条样本特征向量，$\\theta$ 大小为$(n+1) \\times 1$，可以使用$X \\theta$（矩阵相乘）计算所有样本的预测结果,大小为$m\\times 1$。于是这里的线性模型就可以表示为：\n",
    "$$\n",
    "h_{\\theta}(X) = X \\theta。\n",
    "$$\n",
    "这里$h_{\\theta}(X)$的大小为$m \\times 1$，结果上等于 $predict\\_Y_\\theta$。\n",
    "\n",
    "**提示**：矩阵相乘 `np.dot(矩阵1，矩阵2)`。"
   ]
  },
  {
   "cell_type": "code",
   "execution_count": 12,
   "metadata": {
    "pycharm": {
     "name": "#%%\n"
    }
   },
   "outputs": [
    {
     "name": "stdout",
     "output_type": "stream",
     "text": [
      "[[27.89765487]\n",
      " [26.67468106]\n",
      " [24.09284744]\n",
      " [19.56569876]\n",
      " [14.8883603 ]]\n"
     ]
    }
   ],
   "source": [
    "def compute_predict_Y(X,theta):\n",
    "    \"\"\"计算预测结果\n",
    "    参数：\n",
    "        X: 训练集数据特征,shape: (m, 2)\n",
    "        theta: 参数,shape: (2, 1)\n",
    "\n",
    "    返回：\n",
    "        predict_Y: 预测结果,shape: (m,1)\n",
    "    \"\"\"\n",
    "    \n",
    "    ### START CODE HERE ###\n",
    "    predict_Y = np.dot(X,theta)\n",
    "    ### END CODE HERE ###\n",
    "    return predict_Y\n",
    "predict_Y = compute_predict_Y(X,theta)\n",
    "print(predict_Y[:5])"
   ]
  },
  {
   "cell_type": "markdown",
   "metadata": {
    "pycharm": {
     "name": "#%% md\n"
    }
   },
   "source": [
    "### **任务4：** \n",
    "实现计算损失函数$J(\\theta)$的函数。   \n",
    "从公式\n",
    "$$\n",
    "\\begin{aligned}\n",
    "J(\\theta) = \\frac{1}{2m} \\sum_{i=1}^{m} \\left ( predict\\_y_\\theta^{(i)} - y_\\theta^{(i)} \\right )^2\n",
    "\\end{aligned}\n",
    "$$\n",
    "可以看到有个求和，由于使用`for`循环效率不高，因此需要用向量化的方法代替`for`循环。$(predict\\_Y - Y)^2$计算所有样本的损失值，最后求和并除以$2m$得到$J(\\theta)$的值，得到的$J(\\theta)$是一个标量。   \n",
    "**提示**：矩阵乘法运算可使用`np.dot`函数，平方运算可使用`np.power(data, 2)`函数，求和运算可使用`np.sum`。"
   ]
  },
  {
   "cell_type": "code",
   "execution_count": 13,
   "metadata": {
    "pycharm": {
     "name": "#%%\n"
    }
   },
   "outputs": [],
   "source": [
    "def compute_J(predict_Y, Y):\n",
    "    \"\"\"计算损失的函数J\n",
    "    参数：\n",
    "        predict_Y: 预测结果,shape: (m, 1)\n",
    "        Y: 训练集数据标签,shape: (m, 1)\n",
    "        \n",
    "    返回：\n",
    "        loss: 损失值\n",
    "    \"\"\"\n",
    "    \n",
    "    m = Y.shape[0]\n",
    "    \n",
    "    ### START CODE HERE ###\n",
    "\n",
    "    loss = np.sum(np.power(predict_Y-Y,2))/(2*m)\n",
    "    \n",
    "    ### END CODE HERE ###\n",
    "    \n",
    "    return loss"
   ]
  },
  {
   "cell_type": "code",
   "execution_count": 14,
   "metadata": {
    "pycharm": {
     "name": "#%%\n"
    }
   },
   "outputs": [
    {
     "name": "stdout",
     "output_type": "stream",
     "text": [
      "first_loss =  144.05159786255672\n"
     ]
    }
   ],
   "source": [
    "first_loss = compute_J(predict_Y, Y)\n",
    "print(\"first_loss = \", first_loss)"
   ]
  },
  {
   "cell_type": "markdown",
   "metadata": {
    "pycharm": {
     "name": "#%% md\n"
    }
   },
   "source": [
    "### **任务5：**\n",
    "计算参数$\\theta$的梯度。梯度计算的公式为：\n",
    "$$\n",
    "\\frac{\\partial J(\\theta)}{\\partial \\theta_j} = \\frac{1}{m} \\sum_{i=1}^{m} \\left ( \\theta^T x^{(i)} - y \\right ) x_j^{(i)}。\n",
    "$$\n",
    "向量化公式为：\n",
    "$$\n",
    "\\text{gradients} =\\frac{1}{m} X^T (X \\theta - Y) 。\n",
    "$$\n",
    "**提示**：矩阵A的转置表示为`A.T`。$X\\theta$就是计算出的predict_Y。"
   ]
  },
  {
   "cell_type": "code",
   "execution_count": 15,
   "metadata": {
    "pycharm": {
     "name": "#%%\n"
    }
   },
   "outputs": [],
   "source": [
    "def compute_gradient(predict_Y, Y, X):\n",
    "    \"\"\"计算对参数theta的梯度值\n",
    "    参数：\n",
    "        predict_Y: 当前预测结果,shape: (m,1)\n",
    "        Y: 训练集数据标签,shape: (m, 1)\n",
    "        X: 训练集数据特征,shape: (m, 2)\n",
    "        \n",
    "    返回：\n",
    "        gradients: 对theta的梯度,shape:(2,1)\n",
    "    \"\"\"\n",
    "    \n",
    "    m = X.shape[0]\n",
    "    \n",
    "    ### START CODE HERE ###\n",
    "\n",
    "    gradients = np.dot(X.T,predict_Y-Y)/m\n",
    "\n",
    "    ### END CODE HERE ###\n",
    "    \n",
    "    return gradients"
   ]
  },
  {
   "cell_type": "code",
   "execution_count": 16,
   "metadata": {
    "pycharm": {
     "name": "#%%\n"
    }
   },
   "outputs": [
    {
     "name": "stdout",
     "output_type": "stream",
     "text": [
      "gradients_first shape :  (2, 1)\n",
      "gradients_first =  [[ 16.0079445 ]\n",
      " [459.96770081]]\n"
     ]
    }
   ],
   "source": [
    "gradients_first = compute_gradient(predict_Y, Y, X)\n",
    "print(\"gradients_first shape : \", gradients_first.shape)\n",
    "print(\"gradients_first = \", gradients_first)\n"
   ]
  },
  {
   "cell_type": "markdown",
   "metadata": {
    "pycharm": {
     "name": "#%% md\n"
    }
   },
   "source": [
    "### **任务6：**\n",
    "用梯度下降法更新参数$\\theta$,实现`update_parameters`函数。\n",
    "\n",
    "**提示**：parameters = $\\theta$ - $learning\\_rate·gradients$\n",
    "\n"
   ]
  },
  {
   "cell_type": "code",
   "execution_count": 17,
   "metadata": {
    "pycharm": {
     "name": "#%%\n"
    }
   },
   "outputs": [],
   "source": [
    "def update_parameters(theta, gradients, learning_rate=0.0001):\n",
    "    \"\"\"更新参数theta\n",
    "    参数：\n",
    "        theta: 参数,shape: (2, 1)\n",
    "        gradients: 梯度,shape: (2, 1)\n",
    "        learning_rate: 学习率,默认为0.0001\n",
    "        \n",
    "    返回：\n",
    "        parameters: 更新后的参数,shape: (2, 1)\n",
    "    \"\"\"\n",
    "    ### START CODE HERE ###\n",
    "\n",
    "    parameters = theta - learning_rate * gradients\n",
    "\n",
    "    ### END CODE HERE ###\n",
    "    \n",
    "    return parameters"
   ]
  },
  {
   "cell_type": "code",
   "execution_count": 18,
   "metadata": {
    "pycharm": {
     "name": "#%%\n"
    }
   },
   "outputs": [
    {
     "name": "stdout",
     "output_type": "stream",
     "text": [
      "theta_one_iter =  [[0.54721271]\n",
      " [0.6691926 ]]\n"
     ]
    }
   ],
   "source": [
    "theta_one_iter = update_parameters(theta, gradients_first)\n",
    "\n",
    "print(\"theta_one_iter = \", theta_one_iter)"
   ]
  },
  {
   "cell_type": "markdown",
   "metadata": {
    "pycharm": {
     "name": "#%% md\n"
    }
   },
   "source": [
    "### **任务7：**\n",
    "将前面定义的函数整合起来，实现完整的模型训练函数。\n",
    "\n",
    "$\\theta$迭代更新 `iter_num`次。迭代次数`iter_num`也是一个超参数，如果`iter_num`太小，损失函数$J(\\theta)$还没有收敛；如果`iter_num`太大，损失函数$J(\\theta)$早就收敛了，过多的迭代浪费时间。"
   ]
  },
  {
   "cell_type": "code",
   "execution_count": 19,
   "metadata": {
    "pycharm": {
     "name": "#%%\n"
    }
   },
   "outputs": [],
   "source": [
    "def model(X, Y, theta, iter_num = 100, learning_rate=0.0001):\n",
    "    \"\"\"线性回归模型\n",
    "    参数：\n",
    "        X: 训练集数据特征,shape: (m, n+1)\n",
    "        Y: 训练集数据标签,shape: (m, 1)\n",
    "        iter_num: 梯度下降的迭代次数\n",
    "        theta: 初始化的参数,shape: (n+1, 1)\n",
    "        learning_rate: 学习率,默认为0.0001\n",
    "        \n",
    "    返回：\n",
    "        loss_history: 每次迭代的损失值\n",
    "        theta_history: 每次迭代更新后的参数\n",
    "        theta: 训练得到的参数\n",
    "    \"\"\"\n",
    "    \n",
    "    loss_history = []\n",
    "    theta_history = []\n",
    "    \n",
    "    for i in range(iter_num):\n",
    "        \n",
    "        ### START CODE HERE ###\n",
    "        # 预测\n",
    "        predict_Y = compute_predict_Y(X, theta)\n",
    "        # 计算损失\n",
    "        loss = compute_J(predict_Y, Y)\n",
    "        # 计算梯度\n",
    "        gradients = compute_gradient(predict_Y, Y, X)\n",
    "        # 更新参数\n",
    "        theta = update_parameters(theta, gradients, learning_rate)\n",
    "        ### END CODE HERE ###\n",
    "        \n",
    "        loss_history.append(loss)\n",
    "        theta_history.append(theta)\n",
    "    \n",
    "    return loss_history, theta_history, theta"
   ]
  },
  {
   "cell_type": "code",
   "execution_count": 20,
   "metadata": {
    "pycharm": {
     "name": "#%%\n"
    }
   },
   "outputs": [
    {
     "name": "stdout",
     "output_type": "stream",
     "text": [
      "theta =  [[0.52732144]\n",
      " [0.09027749]]\n",
      "loss =  0.09087253295782578\n"
     ]
    },
    {
     "data": {
      "text/plain": "<Figure size 640x480 with 1 Axes>",
      "image/png": "[encoded data removed]"
     },
     "metadata": {},
     "output_type": "display_data"
    }
   ],
   "source": [
    "# 感兴趣的同学可以自行尝试不同的学习率和迭代次数，最后提交时以100次迭代和0.0001的学习率重新运行一遍再提交\n",
    "\n",
    "loss_history, theta_history, theta = model(X, Y, theta, iter_num=100, learning_rate=0.0001)\n",
    "\n",
    "print(\"theta = \", theta)\n",
    "\n",
    "plt.plot(loss_history)\n",
    "print(\"loss = \", loss_history[-1])"
   ]
  },
  {
   "cell_type": "markdown",
   "metadata": {
    "pycharm": {
     "name": "#%% md\n"
    }
   },
   "source": [
    "下面是学习到的线性模型与原始数据的关系可视化。"
   ]
  },
  {
   "cell_type": "code",
   "execution_count": 21,
   "metadata": {
    "pycharm": {
     "name": "#%%\n"
    }
   },
   "outputs": [
    {
     "data": {
      "text/plain": "[<matplotlib.lines.Line2D at 0x29153739e80>]"
     },
     "execution_count": 21,
     "metadata": {},
     "output_type": "execute_result"
    },
    {
     "data": {
      "text/plain": "<Figure size 640x480 with 1 Axes>",
      "image/png": "[encoded data removed]"
     },
     "metadata": {},
     "output_type": "display_data"
    }
   ],
   "source": [
    "plt.scatter(X[:,1],Y)\n",
    "x = np.arange(10,42)\n",
    "plt.plot(x,x*theta[1][0]+theta[0][0],'r')"
   ]
  },
  {
   "cell_type": "markdown",
   "metadata": {
    "pycharm": {
     "name": "#%% md\n"
    }
   },
   "source": [
    "现在直观地了解一下梯度下降的过程。"
   ]
  },
  {
   "cell_type": "code",
   "execution_count": 22,
   "metadata": {
    "pycharm": {
     "name": "#%%\n"
    }
   },
   "outputs": [
    {
     "name": "stdout",
     "output_type": "stream",
     "text": [
      "(50, 50)\n",
      "(50, 50)\n",
      "(80, 1)\n",
      "(50, 50)\n"
     ]
    },
    {
     "data": {
      "text/plain": "<matplotlib.collections.PathCollection at 0x2915584fa30>"
     },
     "execution_count": 22,
     "metadata": {},
     "output_type": "execute_result"
    },
    {
     "data": {
      "text/plain": "<Figure size 640x480 with 1 Axes>",
      "image/png": "[encoded data removed]"
     },
     "metadata": {},
     "output_type": "display_data"
    }
   ],
   "source": [
    "theta_0 = np.linspace(0, 1, 50)\n",
    "theta_1 = np.linspace(0, 1, 50)\n",
    "theta_0, theta_1 = np.meshgrid(theta_0,theta_1)\n",
    "J = np.zeros_like(theta_0)\n",
    "predict_Ys = np.zeros_like(predict_Y)\n",
    "print(theta_0.shape)\n",
    "print(theta_1.shape)\n",
    "print(predict_Ys.shape)\n",
    "print(J.shape)\n",
    "\n",
    "for i in range(50):\n",
    "    for j in range(50):\n",
    "        predict_Y = compute_predict_Y(X, np.array([[theta_0[i,j]],[theta_1[i,j]]]))\n",
    "        J[i,j] = compute_J(predict_Y, Y)\n",
    "\n",
    "plt.contourf(theta_0, theta_1, J, 10, alpha = 0.6, cmap = plt.cm.coolwarm)\n",
    "C = plt.contour(theta_0, theta_1, J, 10, colors = 'black')\n",
    "\n",
    "# 画出损失函数J的历史位置\n",
    "history_num = len(theta_history)\n",
    "theta_0_history = np.zeros(history_num)\n",
    "theta_1_history = np.zeros(history_num)\n",
    "for i in range(history_num):\n",
    "    theta_0_history[i],theta_1_history[i] = theta_history[i][0,0],theta_history[i][1,0]\n",
    "plt.scatter(theta_0_history, theta_1_history, c=\"r\")"
   ]
  },
  {
   "cell_type": "markdown",
   "metadata": {
    "pycharm": {
     "name": "#%% md\n"
    }
   },
   "source": [
    "可以看到，$J(\\theta)$的值不断地往最低点移动。在y轴，$J(\\theta)$下降的比较快，在x轴，$J(\\theta)$下降的比较慢。"
   ]
  },
  {
   "cell_type": "markdown",
   "metadata": {
    "pycharm": {
     "name": "#%% md\n"
    }
   },
   "source": [
    "## 4- 实现多变量线性回归模型\n",
    "上述例子是单变量回归的例子，样本的特征只有一个一天的最高温度。负责人经过分析后发现，城市一天的峰值用电量还与城市人口有关系，因此，他在回归模型中添加城市人口变量$x_2$，你的任务是训练这个多变量回归方程：\n",
    "$$\n",
    "h(x) = \\theta^T x = \\theta_0 * 1 + \\theta_1 * x_1 + \\theta_2 * x_2。\n",
    "$$\n",
    "之前实现的梯度下降法使用的对象是$\\theta$和$X$向量，实现的梯度下降函数适用于单变量回归和多变量回归。不难发现上面使用的向量化公式在多变量回归里依然不变，因此代码也基本一致,直接调用前面实现的函数即可。\n",
    "\n",
    "### **任务8：** \n",
    "现在，训练一个多变量回归模型。"
   ]
  },
  {
   "cell_type": "code",
   "execution_count": 23,
   "metadata": {
    "pycharm": {
     "name": "#%%\n"
    }
   },
   "outputs": [
    {
     "name": "stdout",
     "output_type": "stream",
     "text": [
      "theta =  [[0.52593585]\n",
      " [0.06715361]\n",
      " [0.57583208]]\n",
      "loss =  0.10300473270580184\n"
     ]
    },
    {
     "data": {
      "text/plain": "<Figure size 640x480 with 1 Axes>",
      "image/png": "[encoded data removed]"
     },
     "metadata": {},
     "output_type": "display_data"
    }
   ],
   "source": [
    "#读取数据，X取data的前两列\n",
    "X = data[:,0:2].reshape(-1, 2)\n",
    "Y = data[:,2].reshape(-1, 1)\n",
    "\n",
    "### START CODE HERE ###\n",
    "\n",
    "# 直接调用上面实现过的函数\n",
    "# 同样为X的前面添加一列1,使得X的shape从80x2 -> 80x3\n",
    "X = preprocess_data(X)\n",
    "# 初始化参数theta ,theta的shape应为 3x1\n",
    "theta = init_parameter((3, 1))\n",
    "# 传入模型训练,learning_rate设为0.0001\n",
    "loss_history, theta_history, theta = model(X, Y, theta)\n",
    "\n",
    "### END CODE HERE ###\n",
    "\n",
    "print(\"theta = \", theta)\n",
    "\n",
    "plt.plot(loss_history)\n",
    "print(\"loss = \", loss_history[-1])"
   ]
  },
  {
   "cell_type": "markdown",
   "metadata": {
    "pycharm": {
     "name": "#%% md\n"
    }
   },
   "source": [
    "# 5- 特征归一化\n",
    "\n",
    "特征归一化可以确保特征在相同的尺度，加快梯度下降的收敛过程。\n",
    "\n",
    "### **任务9：** \n",
    "对数据进行零均值单位方差归一化处理。零均值单位方差归一化公式：\n",
    "$$\n",
    "x_i = \\frac{x_i - \\mu_i}{\\sigma_i}\n",
    "$$\n",
    "其中$i$表示第$i$个特征，$\\mu_i$表示第$i$个特征的均值，$\\sigma_i$表示第$i$个特征的标准差。进行零均值单位方差归一化处理后，数据符合标准正态分布，即均值为0，标准差为1。\n",
    "  \n",
    "**注意**，使用新样本进行预测时，需要对样本的特征进行相同的缩放处理。\n",
    "\n",
    "**提示**：求特征的均值，使用numpy的函数`np.mean`;求特征的标准差，使用numpy的函数`np.std`，需要注意对哪个维度求均值和标准差。比如，对矩阵A的每列求均值`np.mean(A,axis=0)`。"
   ]
  },
  {
   "cell_type": "code",
   "execution_count": 24,
   "outputs": [
    {
     "name": "stdout",
     "output_type": "stream",
     "text": [
      "Help on function std in module numpy:\n",
      "\n",
      "std(a, axis=None, dtype=None, out=None, ddof=0, keepdims=<no value>, *, where=<no value>)\n",
      "    Compute the standard deviation along the specified axis.\n",
      "    \n",
      "    Returns the standard deviation, a measure of the spread of a distribution,\n",
      "    of the array elements. The standard deviation is computed for the\n",
      "    flattened array by default, otherwise over the specified axis.\n",
      "    \n",
      "    Parameters\n",
      "    ----------\n",
      "    a : array_like\n",
      "        Calculate the standard deviation of these values.\n",
      "    axis : None or int or tuple of ints, optional\n",
      "        Axis or axes along which the standard deviation is computed. The\n",
      "        default is to compute the standard deviation of the flattened array.\n",
      "    \n",
      "        .. versionadded:: 1.7.0\n",
      "    \n",
      "        If this is a tuple of ints, a standard deviation is performed over\n",
      "        multiple axes, instead of a single axis or all the axes as before.\n",
      "    dtype : dtype, optional\n",
      "        Type to use in computing the standard deviation. For arrays of\n",
      "        integer type the default is float64, for arrays of float types it is\n",
      "        the same as the array type.\n",
      "    out : ndarray, optional\n",
      "        Alternative output array in which to place the result. It must have\n",
      "        the same shape as the expected output but the type (of the calculated\n",
      "        values) will be cast if necessary.\n",
      "    ddof : int, optional\n",
      "        Means Delta Degrees of Freedom.  The divisor used in calculations\n",
      "        is ``N - ddof``, where ``N`` represents the number of elements.\n",
      "        By default `ddof` is zero.\n",
      "    keepdims : bool, optional\n",
      "        If this is set to True, the axes which are reduced are left\n",
      "        in the result as dimensions with size one. With this option,\n",
      "        the result will broadcast correctly against the input array.\n",
      "    \n",
      "        If the default value is passed, then `keepdims` will not be\n",
      "        passed through to the `std` method of sub-classes of\n",
      "        `ndarray`, however any non-default value will be.  If the\n",
      "        sub-class' method does not implement `keepdims` any\n",
      "        exceptions will be raised.\n",
      "    \n",
      "    where : array_like of bool, optional\n",
      "        Elements to include in the standard deviation.\n",
      "        See `~numpy.ufunc.reduce` for details.\n",
      "    \n",
      "        .. versionadded:: 1.20.0\n",
      "    \n",
      "    Returns\n",
      "    -------\n",
      "    standard_deviation : ndarray, see dtype parameter above.\n",
      "        If `out` is None, return a new array containing the standard deviation,\n",
      "        otherwise return a reference to the output array.\n",
      "    \n",
      "    See Also\n",
      "    --------\n",
      "    var, mean, nanmean, nanstd, nanvar\n",
      "    :ref:`ufuncs-output-type`\n",
      "    \n",
      "    Notes\n",
      "    -----\n",
      "    The standard deviation is the square root of the average of the squared\n",
      "    deviations from the mean, i.e., ``std = sqrt(mean(x))``, where\n",
      "    ``x = abs(a - a.mean())**2``.\n",
      "    \n",
      "    The average squared deviation is typically calculated as ``x.sum() / N``,\n",
      "    where ``N = len(x)``. If, however, `ddof` is specified, the divisor\n",
      "    ``N - ddof`` is used instead. In standard statistical practice, ``ddof=1``\n",
      "    provides an unbiased estimator of the variance of the infinite population.\n",
      "    ``ddof=0`` provides a maximum likelihood estimate of the variance for\n",
      "    normally distributed variables. The standard deviation computed in this\n",
      "    function is the square root of the estimated variance, so even with\n",
      "    ``ddof=1``, it will not be an unbiased estimate of the standard deviation\n",
      "    per se.\n",
      "    \n",
      "    Note that, for complex numbers, `std` takes the absolute\n",
      "    value before squaring, so that the result is always real and nonnegative.\n",
      "    \n",
      "    For floating-point input, the *std* is computed using the same\n",
      "    precision the input has. Depending on the input data, this can cause\n",
      "    the results to be inaccurate, especially for float32 (see example below).\n",
      "    Specifying a higher-accuracy accumulator using the `dtype` keyword can\n",
      "    alleviate this issue.\n",
      "    \n",
      "    Examples\n",
      "    --------\n",
      "    >>> a = np.array([[1, 2], [3, 4]])\n",
      "    >>> np.std(a)\n",
      "    1.1180339887498949 # may vary\n",
      "    >>> np.std(a, axis=0)\n",
      "    array([1.,  1.])\n",
      "    >>> np.std(a, axis=1)\n",
      "    array([0.5,  0.5])\n",
      "    \n",
      "    In single precision, std() can be inaccurate:\n",
      "    \n",
      "    >>> a = np.zeros((2, 512*512), dtype=np.float32)\n",
      "    >>> a[0, :] = 1.0\n",
      "    >>> a[1, :] = 0.1\n",
      "    >>> np.std(a)\n",
      "    0.45000005\n",
      "    \n",
      "    Computing the standard deviation in float64 is more accurate:\n",
      "    \n",
      "    >>> np.std(a, dtype=np.float64)\n",
      "    0.44999999925494177 # may vary\n",
      "    \n",
      "    Specifying a where argument:\n",
      "    \n",
      "    >>> a = np.array([[14, 8, 11, 10], [7, 9, 10, 11], [10, 15, 5, 10]])\n",
      "    >>> np.std(a)\n",
      "    2.614064523559687 # may vary\n",
      "    >>> np.std(a, where=[[True], [True], [False]])\n",
      "    2.0\n",
      "\n"
     ]
    }
   ],
   "source": [
    "help(np.std)"
   ],
   "metadata": {
    "collapsed": false,
    "pycharm": {
     "name": "#%%\n"
    }
   }
  },
  {
   "cell_type": "code",
   "execution_count": 25,
   "metadata": {
    "pycharm": {
     "name": "#%%\n"
    }
   },
   "outputs": [
    {
     "name": "stdout",
     "output_type": "stream",
     "text": [
      "mu =  [25.617  1.131]\n",
      "sigma =  [8.8648434 0.3606716]\n",
      "theta =  [[2.86181356]\n",
      " [0.70424286]\n",
      " [0.04097817]]\n",
      "loss =  0.08591601385802586\n"
     ]
    },
    {
     "data": {
      "text/plain": "<Figure size 640x480 with 1 Axes>",
      "image/png": "[encoded data removed]"
     },
     "metadata": {},
     "output_type": "display_data"
    }
   ],
   "source": [
    "X = data[:,0:2].reshape((-1, 2))\n",
    "Y = data[:,2].reshape((-1, 1))\n",
    "\n",
    "### START CODE HERE ###\n",
    "\n",
    "# 计算特征的均值 mu\n",
    "mu = np.mean(X, axis=0)\n",
    "# 计算特征的标准差 sigma\n",
    "sigma = np.std(X, axis=0)\n",
    "# 零均值单位方差归一化\n",
    "X_norm = (X - mu)/sigma\n",
    "\n",
    "# 训练多变量回归模型\n",
    "# X_norm前面加一列1\n",
    "X = preprocess_data(X_norm)\n",
    "# 初始化参数theta\n",
    "theta = init_parameter((3,1))\n",
    "# 传入模型训练,learning_rate设为0.1\n",
    "loss_history, theta_history, theta = model(X, Y, theta, 100, 0.1)\n",
    "\n",
    "### END CODE HERE ###\n",
    "\n",
    "print(\"mu = \", mu)\n",
    "print(\"sigma = \", sigma)\n",
    "\n",
    "print(\"theta = \", theta)\n",
    "\n",
    "plt.plot(loss_history)\n",
    "print(\"loss = \", loss_history[-1])"
   ]
  },
  {
   "cell_type": "markdown",
   "metadata": {
    "pycharm": {
     "name": "#%% md\n"
    }
   },
   "source": [
    "我们来直观地了解特征尺度归一化的梯度下降的过程。这里只展示单变量回归梯度下降过程。"
   ]
  },
  {
   "cell_type": "code",
   "execution_count": 26,
   "metadata": {
    "pycharm": {
     "name": "#%%\n"
    }
   },
   "outputs": [
    {
     "data": {
      "text/plain": "<matplotlib.collections.PathCollection at 0x29155893340>"
     },
     "execution_count": 26,
     "metadata": {},
     "output_type": "execute_result"
    },
    {
     "data": {
      "text/plain": "<Figure size 640x480 with 1 Axes>",
      "image/png": "[encoded data removed]"
     },
     "metadata": {},
     "output_type": "display_data"
    }
   ],
   "source": [
    "X_show = X[:,0:2]\n",
    "X_show = preprocess_data(X_show)\n",
    "\n",
    "theta_0 = np.linspace(-2, 3, 50)\n",
    "theta_1 = np.linspace(-2, 3, 50)\n",
    "theta_0, theta_1 = np.meshgrid(theta_0,theta_1)\n",
    "J = np.zeros_like(theta_0)\n",
    "\n",
    "for i in range(50):\n",
    "    for j in range(50):\n",
    "        predict_Y = compute_predict_Y(X_show, np.array([[2.877],[theta_0[i,j]],[theta_1[i,j]]]))\n",
    "        J[i,j] = compute_J(predict_Y, Y)\n",
    "\n",
    "plt.contourf(theta_0, theta_1, J, 10, alpha = 0.6, cmap = plt.cm.coolwarm)\n",
    "C = plt.contour(theta_0, theta_1, J, 10, colors = 'black')\n",
    "\n",
    "# 画出损失函数J的历史位置\n",
    "history_num = len(theta_history)\n",
    "theta_0_history = np.zeros(history_num)\n",
    "theta_1_history = np.zeros(history_num)\n",
    "for i in range(history_num):\n",
    "    theta_0_history[i],theta_1_history[i] = theta_history[i][2,0],theta_history[i][1,0]\n",
    "plt.scatter(theta_0_history, theta_1_history, c=\"r\")"
   ]
  },
  {
   "cell_type": "markdown",
   "metadata": {
    "pycharm": {
     "name": "#%% md\n"
    }
   },
   "source": [
    "可以看到，$J(\\theta)$的值不断地往最低点移动。与没有进行特征尺度归一化的图相比，归一化后，每个维度的变化幅度大致相同，这有助于$J(\\theta)$的值快速下降到最低点。"
   ]
  },
  {
   "cell_type": "markdown",
   "metadata": {
    "pycharm": {
     "name": "#%% md\n"
    }
   },
   "source": [
    "# 6- 法线方程 (The normal equations)\n",
    "\n",
    "对于求函数极小值问题，可以使用求导数的方法，令函数的导数为0，然后求解方程，得到解析解。法线方程正是使用这种方法来求解损失函数$J(\\theta)$的极小值，而线性回归的损失函数$J(\\theta)$是一个凸函数，所以极小值就是最小值。\n",
    "\n",
    "法线方程的求解过程详见课件，法线方程的公式是：\n",
    "$$\n",
    "\\theta = (X^T X)^{-1} X^T Y\n",
    "$$\n",
    "\n",
    "如果$m \\le n +1$，那么$X^T X$是奇异矩阵，即$X^T X$不可逆。\n",
    "$X^T X$不可逆的原因可能是：\n",
    "\n",
    "- 特征之间冗余，比如特征向量中两个特征是线性相关的。\n",
    "- 特征太多，删去一些特征再进行运算。\n",
    "\n",
    "法线方程的缺点之一就是会出现$X^T X$不可逆的情况，可以通过正则化的方式解决。另一个缺点是，如果样本的个数太多，特征数量太多($n \\gt 10000$)，法线方程的运算会很慢（求逆矩阵的运算复杂）。\n",
    "\n",
    "### **任务10：** \n",
    "下面来实现法线方程。  \n",
    "**提示**：Numpy 求逆矩阵的函数是`np.linalg.inv`。"
   ]
  },
  {
   "cell_type": "code",
   "execution_count": 27,
   "metadata": {
    "pycharm": {
     "name": "#%%\n"
    }
   },
   "outputs": [],
   "source": [
    "def normal_equation(X, Y):\n",
    "    \"\"\"法线方程求解线性回归方程的参数\n",
    "    参数：\n",
    "        X: 训练集数据特征,shape: (m, n+1)\n",
    "        Y: 训练集数据标签,shape: (m, 1)\n",
    "        \n",
    "    返回：\n",
    "        theta: 线性回归方程的参数\n",
    "    \"\"\"\n",
    "    \n",
    "    ### START CODE HERE ###\n",
    "        \n",
    "    theta = np.dot(np.linalg.inv(np.dot(X.T, X)), np.dot(X.T,Y))\n",
    "\n",
    "    ### END CODE HERE ###\n",
    "    \n",
    "    return theta"
   ]
  },
  {
   "cell_type": "code",
   "execution_count": 28,
   "metadata": {
    "pycharm": {
     "name": "#%%\n"
    }
   },
   "outputs": [
    {
     "name": "stdout",
     "output_type": "stream",
     "text": [
      "theta =  [[2.861875  ]\n",
      " [0.70429906]\n",
      " [0.04092011]]\n"
     ]
    }
   ],
   "source": [
    "theta = normal_equation(X, Y)\n",
    "\n",
    "print(\"theta = \", theta)"
   ]
  },
  {
   "cell_type": "markdown",
   "metadata": {
    "pycharm": {
     "name": "#%% md\n"
    }
   },
   "source": [
    "可以自行对比一下直接用正规方程求解出的$\\theta$与用线性回归模型训练出的$\\theta$之间的差异，会\"惊奇\"地发现两者几乎一模一样。"
   ]
  },
  {
   "cell_type": "markdown",
   "metadata": {
    "pycharm": {
     "name": "#%% md\n"
    }
   },
   "source": [
    "# 7- 预测结果 \n",
    "\n",
    "### **任务11：** \n",
    "假设明天的最高温度是$x_1 = 40$°C，人口$x_2 = 3.3$百万，使用通过正规方程计算得到的$\\theta$预测明天的城市的峰值用电量（单位：GW）吧！  \n",
    "**注意**，$x$要进行同样的特征尺度归一化处理。"
   ]
  },
  {
   "cell_type": "code",
   "execution_count": 29,
   "metadata": {
    "pycharm": {
     "name": "#%%\n"
    }
   },
   "outputs": [
    {
     "name": "stdout",
     "output_type": "stream",
     "text": [
      "预计明天的峰值用电量为：4.25 GW\n"
     ]
    }
   ],
   "source": [
    "def predict(theta,x):\n",
    "    \"\"\"预测峰值用电量\n",
    "    参数：\n",
    "        X: 需要预测数据的特征,shape: (m, n+1), 这里只预测一天的结果, m=1\n",
    "        theta: 最终确定的参数,shape: (n+1, 1)\n",
    "        \n",
    "    返回：\n",
    "        prediction: 预测结果,shape: (m, 1)\n",
    "    \"\"\"\n",
    "\n",
    "    ### START CODE HERE ###\n",
    "\n",
    "    # 零均值单位方差归一化\n",
    "    x = (x - mu)/sigma\n",
    "    # 在x前面加一列\n",
    "    x = preprocess_data(x)\n",
    "    #用theta和处理后的x计算预测值\n",
    "    prediction = np.dot(x, theta)\n",
    "\n",
    "    ### END CODE HERE ###\n",
    "\n",
    "    return prediction\n",
    "\n",
    "#明天的特征\n",
    "x = np.array([[40,3.3]])\n",
    "print('预计明天的峰值用电量为：%.2f GW'%(predict(theta,x))) "
   ]
  },
  {
   "cell_type": "markdown",
   "metadata": {
    "pycharm": {
     "name": "#%% md\n"
    }
   },
   "source": [
    "# 8- 多项式回归\n",
    "以上都是线性模型，当我们数据的特征$X$与预测结果$Y$之间没有明显的线性关系，而且又找不到合适的映射函数时，可以尝试多项式回归。\n",
    "下面导入另一组最高气温与用电量数据，我们用线性模型试一试看看效果发现并不太好。"
   ]
  },
  {
   "cell_type": "code",
   "execution_count": 30,
   "metadata": {
    "pycharm": {
     "name": "#%%\n"
    }
   },
   "outputs": [
    {
     "data": {
      "text/plain": "[<matplotlib.lines.Line2D at 0x29155b788b0>]"
     },
     "execution_count": 30,
     "metadata": {},
     "output_type": "execute_result"
    },
    {
     "data": {
      "text/plain": "<Figure size 640x480 with 1 Axes>",
      "image/png": "[encoded data removed]"
     },
     "metadata": {},
     "output_type": "display_data"
    }
   ],
   "source": [
    "data1 = np.loadtxt('data1.txt')\n",
    "X = data1[:,0].reshape(-1,1)\n",
    "Y = data1[:,1].reshape(-1,1)\n",
    "\n",
    "plt.scatter(X,Y)\n",
    "X = np.hstack((np.ones((X.shape[0],1)),X))\n",
    "theta = normal_equation(X,Y)\n",
    "plt.plot(np.sort(X[:,1]),np.dot(X,theta)[np.argsort(X[:,1])],'r')"
   ]
  },
  {
   "cell_type": "markdown",
   "metadata": {
    "pycharm": {
     "name": "#%% md\n"
    }
   },
   "source": [
    "\n",
    "多项式回归的最大优点就是可以通过增加$X$的高次项对实测点进行逼近，直至满意为止。事实上，多项式回归可以处理相当一类非线性问题，它在回归分析中占有重要的地位，**因为任一函数都可以分段用多项式来逼近**。因此，在通常的实际问题中，不论依变量与其他自变量的关系如何，我们总可以用多项式回归来进行分析。假设数据的特征只有一个$a$，多项式的最高次数为$K$，那么多项式回归方程为：\n",
    "$$\n",
    "h(x) = \\theta^T x = \\theta_0 \\times a^0 + \\theta_1 \\times a^1 + \\theta_2 \\times a^2 + \\cdots + \\theta_K \\times a^K。\n",
    "$$\n",
    "若令$x = \\begin{bmatrix} a^0, a^1, a^2, \\cdots, a^K \\end{bmatrix}^T$，那么\n",
    "$$\n",
    "h(x) = \\theta^T x = \\theta_0 \\times x_0 + \\theta_1 \\times x_1 + \\theta_2 \\times x_2, \\cdots, \\theta_K \\times x_K，\n",
    "$$\n",
    "这就变为多变量线性回归了。\n",
    "\n",
    "### **任务12：**\n",
    "现在想要得到一个如下的多项式模型，$K=2$，直接用上面的正规方程进行求解。\n",
    "$$\n",
    "    h(x) = \\theta^T x = \\theta_0 \\times 1 + \\theta_1 \\times x + \\theta_2 \\times x^2。\n",
    "$$\n",
    "输入数据$X$变为:\n",
    "$$\n",
    "\\begin{bmatrix} x^{(0)} \\\\ x^{(1)} \\\\ \\vdots \\\\x^{(m-1)}  \\end{bmatrix} \\longrightarrow\n",
    "\\begin{bmatrix} 1\\quad x^{(0)}\\quad {x^{(0)}}^2 \\\\ 1\\quad x^{(1)} \\quad {x^{(1)}}^2\\\\ \\vdots \\\\ 1\\ x^{(m-1)}\\quad {x^{(m-1)}}^2  \\end{bmatrix}。\n",
    "$$"
   ]
  },
  {
   "cell_type": "code",
   "execution_count": 31,
   "metadata": {
    "pycharm": {
     "name": "#%%\n"
    }
   },
   "outputs": [
    {
     "data": {
      "text/plain": "[<matplotlib.lines.Line2D at 0x29156b838b0>]"
     },
     "execution_count": 31,
     "metadata": {},
     "output_type": "execute_result"
    },
    {
     "data": {
      "text/plain": "<Figure size 640x480 with 1 Axes>",
      "image/png": "[encoded data removed]"
     },
     "metadata": {},
     "output_type": "display_data"
    }
   ],
   "source": [
    "data1 = np.loadtxt('data1.txt')\n",
    "X = data1[:,0].reshape(-1,1)\n",
    "Y = data1[:,1].reshape(-1,1)\n",
    "\n",
    "m = X.shape[0]    # m 是数据X的行数\n",
    "X_square = np.power(X,2)\n",
    "\n",
    "### START CODE HERE ###\n",
    "\n",
    "# 对X 前面加1， 后面加平方，变为 m x 3 的矩阵\n",
    "X = np.hstack((np.ones((m,1)),X))\n",
    "X = np.hstack((X,X_square))\n",
    "\n",
    "# 用法线方程求解theta\n",
    "theta = normal_equation(X, Y)\n",
    "\n",
    "### END CODE HERE ###\n",
    "\n",
    "plt.scatter(X[:,1],Y)\n",
    "plt.plot(np.sort(X[:,1]),np.dot(X,theta)[np.argsort(X[:,1])],'r')"
   ]
  },
  {
   "cell_type": "markdown",
   "metadata": {
    "pycharm": {
     "name": "#%% md\n"
    }
   },
   "source": [
    "所有任务到这里就结束了，下面是对上面的数据进行任意多项式拟合的结果，你可以通过改变$K$的值来调整多项式的阶数，看看不同模型的效果(但不设的太大, $K \\le 193$)。可以看到，越复杂的模型，虽然拟合数据的效果越好，但是其泛化能力就会很差，所以模型的选择应该要尽量符合实际需求。"
   ]
  },
  {
   "cell_type": "markdown",
   "source": [
    "## 利用sklearn中pipeline构建机器学习工作流\n",
    "https://zhuanlan.zhihu.com/p/42368821\n",
    "\n",
    "pipeline 实现了对全部步骤的流式化封装和管理（streaming workflows with pipelines），可以很方便地使参数集在新数据集（比如测试集）上被重复使用。\n",
    "\n",
    "Pipeline可以将许多算法模型串联起来，比如将特征提取、归一化、分类组织在一起形成一个典型的机器学习问题工作流。主要带来两点好处：\n",
    "\n",
    "1. 直接调用fit和predict方法来对pipeline中的所有算法模型进行训练和预测。\n",
    "\n",
    "2. 可以结合grid search对参数进行选择。"
   ],
   "metadata": {
    "collapsed": false,
    "pycharm": {
     "name": "#%% md\n"
    }
   }
  },
  {
   "cell_type": "code",
   "execution_count": 32,
   "metadata": {
    "pycharm": {
     "name": "#%%\n"
    }
   },
   "outputs": [
    {
     "ename": "ModuleNotFoundError",
     "evalue": "No module named 'sklearn'",
     "output_type": "error",
     "traceback": [
      "\u001B[1;31m---------------------------------------------------------------------------\u001B[0m",
      "\u001B[1;31mModuleNotFoundError\u001B[0m                       Traceback (most recent call last)",
      "Cell \u001B[1;32mIn[32], line 1\u001B[0m\n\u001B[1;32m----> 1\u001B[0m \u001B[38;5;28;01mfrom\u001B[39;00m \u001B[38;5;21;01msklearn\u001B[39;00m\u001B[38;5;21;01m.\u001B[39;00m\u001B[38;5;21;01mlinear_model\u001B[39;00m \u001B[38;5;28;01mimport\u001B[39;00m LinearRegression\n\u001B[0;32m      2\u001B[0m \u001B[38;5;28;01mfrom\u001B[39;00m \u001B[38;5;21;01msklearn\u001B[39;00m\u001B[38;5;21;01m.\u001B[39;00m\u001B[38;5;21;01mpreprocessing\u001B[39;00m \u001B[38;5;28;01mimport\u001B[39;00m PolynomialFeatures\n\u001B[0;32m      3\u001B[0m \u001B[38;5;28;01mfrom\u001B[39;00m \u001B[38;5;21;01msklearn\u001B[39;00m\u001B[38;5;21;01m.\u001B[39;00m\u001B[38;5;21;01mpipeline\u001B[39;00m \u001B[38;5;28;01mimport\u001B[39;00m Pipeline\n",
      "\u001B[1;31mModuleNotFoundError\u001B[0m: No module named 'sklearn'"
     ]
    }
   ],
   "source": [
    "from sklearn.linear_model import LinearRegression\n",
    "from sklearn.preprocessing import PolynomialFeatures\n",
    "from sklearn.pipeline import Pipeline\n",
    "from sklearn.preprocessing import StandardScaler\n",
    "\n",
    "def PolynomialRegression(degree):\n",
    "    return Pipeline([\n",
    "        (\"poly\",PolynomialFeatures(degree=degree)),\n",
    "        (\"std_scaler\",StandardScaler()),\n",
    "        (\"lin_reg\",LinearRegression())    \n",
    "    ])\n",
    "X = data1[:,0].reshape(-1,1)\n",
    "Y = data1[:,1].reshape(-1,1)\n",
    "\n",
    "K = 20  #可以调整K的值(0<=K<=193)\n",
    "poly_reg = PolynomialRegression(degree=K)\n",
    "poly_reg.fit(X,Y.squeeze())\n",
    "y_predict = poly_reg.predict(X)\n",
    "plt.scatter(X,Y)\n",
    "plt.plot(np.sort(X[:,0]),y_predict[np.argsort(X[:,0])],color='r')"
   ]
  },
  {
   "cell_type": "markdown",
   "metadata": {
    "pycharm": {
     "name": "#%% md\n"
    }
   },
   "source": [
    "## 学习调包sklearn (Optional)\n",
    "\n",
    "\n"
   ]
  },
  {
   "cell_type": "code",
   "execution_count": null,
   "metadata": {
    "pycharm": {
     "name": "#%%\n"
    }
   },
   "outputs": [],
   "source": [
    "import matplotlib.pyplot as plt\n",
    "plt.rcParams[\"font.sans-serif\"]=[\"SimHei\"] #设置字体\n",
    "plt.rcParams[\"axes.unicode_minus\"]=False #该语句解决图像中的“-”负号的乱码问题\n",
    "\n",
    "\n",
    "data = np.loadtxt(\"data.txt\")\n",
    "# data 数据第一列为人口信息\n",
    "X_data = data[:, 0].reshape(-1,1)\n",
    "# data 数据第三列为城市峰值用电量\n",
    "y_data = data[:, 2].reshape(-1,1)\n",
    "print(\"X shape: \", X_data.shape)\n",
    "print(\"y shape: \", y_data.shape)\n"
   ]
  },
  {
   "cell_type": "code",
   "execution_count": null,
   "metadata": {
    "pycharm": {
     "name": "#%%\n"
    }
   },
   "outputs": [],
   "source": [
    "from sklearn.linear_model import LinearRegression\n",
    "linear_reg = LinearRegression()\n",
    "\n",
    "linear_reg.fit(X_data, y_data)\n",
    "\n",
    "X_test = np.array([[8], [45]])\n",
    "y_pred = linear_reg.predict(X_test)\n",
    "plt.plot(X_data,y_data,\".\")\n",
    "plt.plot(X_test, y_pred,\"r-\")\n",
    "plt.xlabel(\"Temperture\")\n",
    "plt.ylabel(\"PeakDemand\")\n",
    "plt.title(\"Linear Regression model predictions\")\n",
    "plt.show()"
   ]
  }
 ],
 "metadata": {
  "kernelspec": {
   "display_name": "Python 3",
   "language": "python",
   "name": "python3"
  },
  "language_info": {
   "codemirror_mode": {
    "name": "ipython",
    "version": 3
   },
   "file_extension": ".py",
   "mimetype": "text/x-python",
   "name": "python",
   "nbconvert_exporter": "python",
   "pygments_lexer": "ipython3",
   "version": "3.9.17"
  },
  "vscode": {
   "interpreter": {
    "hash": "ec7ce87fb31d5dabcb531b969aec8d238756d3afa7db73eb8e1490d40b656be9"
   }
  }
 },
 "nbformat": 4,
 "nbformat_minor": 2
}